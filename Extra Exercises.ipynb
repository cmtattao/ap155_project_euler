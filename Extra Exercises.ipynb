{
 "cells": [
  {
   "cell_type": "markdown",
   "id": "eee6b942-227e-41b0-ba14-44b85eb054ec",
   "metadata": {},
   "source": []
  },
  {
   "cell_type": "code",
   "execution_count": 7,
   "id": "0de2b69d-46bb-4742-a234-c7d9c085b9d1",
   "metadata": {},
   "outputs": [
    {
     "data": {
      "text/plain": [
       "[[1, 2, 8, 4, 2], [3, 6, 9, 5, 3], [2, 5, 6, 3, 9], [7, 5, 3, 6, 6]]"
      ]
     },
     "execution_count": 7,
     "metadata": {},
     "output_type": "execute_result"
    }
   ],
   "source": [
    "#A.1.\n",
    "\n",
    "import random\n",
    "\n",
    "def random_integer_matrix(nrows, ncols):\n",
    "    output_matrix = []\n",
    "\n",
    "    for col in range(ncols):\n",
    "        new_col = []\n",
    "        for row in range(nrows):\n",
    "            pick_number = random.randint(1, 9)\n",
    "            new_col.append(pick_number)\n",
    "        output_matrix.append(new_col)\n",
    "    return output_matrix\n",
    "\n",
    "\n",
    "random_integer_matrix(5,4)"
   ]
  },
  {
   "cell_type": "code",
   "execution_count": 41,
   "id": "abeb2560-aa9c-41e4-b09f-db9ca575980f",
   "metadata": {},
   "outputs": [
    {
     "ename": "SyntaxError",
     "evalue": "unmatched ')' (1076634154.py, line 12)",
     "output_type": "error",
     "traceback": [
      "  \u001b[36mCell\u001b[39m\u001b[36m \u001b[39m\u001b[32mIn[41]\u001b[39m\u001b[32m, line 12\u001b[39m\n\u001b[31m    \u001b[39m\u001b[31mm_list = list1[i] * list2[i])\u001b[39m\n                                ^\n\u001b[31mSyntaxError\u001b[39m\u001b[31m:\u001b[39m unmatched ')'\n"
     ]
    }
   ],
   "source": [
    "#A.2.\n",
    "\n",
    "list1 = [5,4,3,2,1]\n",
    "list2 = [5,4,3,2,1]\n",
    "\n",
    "\n",
    "    \n",
    "def scalar_product(list1, list2):\n",
    "    total_product = 0\n",
    "\n",
    "    for i in range(len(list1)):\n",
    "        m_list = list1[i] * list2[i])\n",
    "        total_product += m_list\n",
    "    return total_product\n",
    "\n",
    "\n",
    "scalar([1,2,3], [4,5,6])"
   ]
  },
  {
   "cell_type": "code",
   "execution_count": null,
   "id": "96b11e47-eaa4-4bf6-b80f-8c999eead3df",
   "metadata": {},
   "outputs": [],
   "source": [
    "#A.3.\n",
    "\n",
    "transpose_matrix(orig_matrix)\n",
    "\n"
   ]
  },
  {
   "cell_type": "code",
   "execution_count": null,
   "id": "00b8121f-c49f-46ac-8fe4-51a5cb17acc4",
   "metadata": {},
   "outputs": [],
   "source": []
  }
 ],
 "metadata": {
  "kernelspec": {
   "display_name": "Python 3 (ipykernel)",
   "language": "python",
   "name": "python3"
  },
  "language_info": {
   "codemirror_mode": {
    "name": "ipython",
    "version": 3
   },
   "file_extension": ".py",
   "mimetype": "text/x-python",
   "name": "python",
   "nbconvert_exporter": "python",
   "pygments_lexer": "ipython3",
   "version": "3.12.11"
  }
 },
 "nbformat": 4,
 "nbformat_minor": 5
}
