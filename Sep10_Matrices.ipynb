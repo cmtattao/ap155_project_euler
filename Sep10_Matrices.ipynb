{
 "cells": [
  {
   "cell_type": "code",
   "execution_count": 8,
   "id": "0cf0dd65-6858-4796-8c02-3883963b2b89",
   "metadata": {},
   "outputs": [
    {
     "name": "stdout",
     "output_type": "stream",
     "text": [
      "[-7.5  2.5 -2.5  7.5]\n"
     ]
    }
   ],
   "source": [
    "import numpy as np \n",
    "\n",
    "v1 = 5 #volts\n",
    "v2 = 10 #volts\n",
    "R = 1 #ohm\n",
    "\n",
    "resistor_mat = np.array([\n",
    "    [-R, -R, 0, 0], # top loop\n",
    "    [R, 0, R, 0],   # bottom-left loop\n",
    "    [0, R, 0 ,R],   # bottom-right loop\n",
    "    [1, -1, -1, 1]  # junction rule\n",
    "])\n",
    "\n",
    "v_vec = np.array([v1, -v2, v2, 0])\n",
    "i_vec = np.linalg.solve(resistor_mat, v_vec)\n",
    "\n",
    "print(i_vec)"
   ]
  },
  {
   "cell_type": "code",
   "execution_count": null,
   "id": "65bf3a80-f60b-4464-a035-9aedf321a72d",
   "metadata": {},
   "outputs": [],
   "source": [
    "r1, r2, r3, r4 = 1, 1, 2, 2\n",
    "vin = 5\n",
    "resistor_mat = np.array([\n",
    "    [+r1,   0,   0,   0, +r4],\n",
    "    [+r1, +r2, +r3,   0,   0],\n",
    "    [  0, +r2,   0, +r4,   0],\n",
    "    [ +1,  -1,   0,  +1,  -1],\n",
    "    [ -1,  -1,   0,  +1,  +1]\n",
    "])\n",
    "\n",
    "volt_vec = np.array([vin, vin, vin, 0, 0])\n",
    "\n",
    "np.linalg.solve(resistor_mat, volt_vec)"
   ]
  }
 ],
 "metadata": {
  "kernelspec": {
   "display_name": "Python 3 (ipykernel)",
   "language": "python",
   "name": "python3"
  },
  "language_info": {
   "codemirror_mode": {
    "name": "ipython",
    "version": 3
   },
   "file_extension": ".py",
   "mimetype": "text/x-python",
   "name": "python",
   "nbconvert_exporter": "python",
   "pygments_lexer": "ipython3",
   "version": "3.12.11"
  }
 },
 "nbformat": 4,
 "nbformat_minor": 5
}
