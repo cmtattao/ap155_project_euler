{
 "cells": [
  {
   "cell_type": "code",
   "execution_count": 1,
   "id": "988a26fb-0548-499b-a0f8-8356372e662c",
   "metadata": {},
   "outputs": [
    {
     "name": "stdout",
     "output_type": "stream",
     "text": [
      "4613732\n"
     ]
    }
   ],
   "source": [
    "limit = 4000000\n",
    "sum = 0\n",
    "first = 1\n",
    "second = 2\n",
    "\n",
    "while second < limit:\n",
    "    if second % 2 == 0:\n",
    "        sum += second\n",
    "\n",
    "    next = first + second\n",
    "    first,second = second,next\n",
    "\n",
    "print (sum)"
   ]
  },
  {
   "cell_type": "code",
   "execution_count": null,
   "id": "97c573c3-4a37-4911-9d64-a59fd6648874",
   "metadata": {},
   "outputs": [],
   "source": []
  }
 ],
 "metadata": {
  "kernelspec": {
   "display_name": "Python 3 (ipykernel)",
   "language": "python",
   "name": "python3"
  },
  "language_info": {
   "codemirror_mode": {
    "name": "ipython",
    "version": 3
   },
   "file_extension": ".py",
   "mimetype": "text/x-python",
   "name": "python",
   "nbconvert_exporter": "python",
   "pygments_lexer": "ipython3",
   "version": "3.12.11"
  }
 },
 "nbformat": 4,
 "nbformat_minor": 5
}
