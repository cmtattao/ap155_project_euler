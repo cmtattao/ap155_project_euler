{
 "cells": [
  {
   "cell_type": "code",
   "execution_count": 1,
   "id": "a413dd08-4486-4fdc-aa4e-26525b67c10e",
   "metadata": {},
   "outputs": [],
   "source": [
    "import numpy as np\n",
    "\n",
    "N = 4\n",
    "V = 5 # volts\n",
    "r1 = 1 # ohms\n",
    "r2 = 1 # ohms\n",
    "r3 = 1 # ohms\n",
    "r4 = 1 # ohms"
   ]
  }
 ],
 "metadata": {
  "kernelspec": {
   "display_name": "Python 3 (ipykernel)",
   "language": "python",
   "name": "python3"
  },
  "language_info": {
   "codemirror_mode": {
    "name": "ipython",
    "version": 3
   },
   "file_extension": ".py",
   "mimetype": "text/x-python",
   "name": "python",
   "nbconvert_exporter": "python",
   "pygments_lexer": "ipython3",
   "version": "3.12.11"
  }
 },
 "nbformat": 4,
 "nbformat_minor": 5
}
