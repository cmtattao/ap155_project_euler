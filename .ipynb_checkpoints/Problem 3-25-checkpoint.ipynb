{
 "cells": [
  {
   "cell_type": "code",
   "execution_count": null,
   "id": "1deff8a6-568f-4df2-98d3-df3d50fdeca2",
   "metadata": {},
   "outputs": [],
   "source": [
    "# Problem 3.25\n",
    "# Examine the derivative of a noisy function: f(x) = 2 + 5 sin (x) + 0.1 sin (30x)\n",
    "# Take 128 points placed on an equally spaced grid from 0 to 2π and produce a table of values, (x_i,f(x_i))"
   ]
  },
  {
   "cell_type": "code",
   "execution_count": null,
   "id": "515d7b7e-8bde-4386-86b6-4918a28981ec",
   "metadata": {},
   "outputs": [],
   "source": [
    "# (a) Plot f(x) together with g(x), where g(x) does not contain the third (highly oscillatory) term.\n",
    "# Observe that the two curves basically lie on top of each other.\n",
    "\n"
   ]
  },
  {
   "cell_type": "code",
   "execution_count": null,
   "id": "c6ae2650-5791-47dd-b328-6084ee417eae",
   "metadata": {},
   "outputs": [],
   "source": [
    "# (b) Create a plot that contains: (i) the analytically computed f'(x), \n",
    "# (ii) the analytically computed g'(x), and \n",
    "# (iii) the forward difference approximation to f'(x), using adjacent points on your grid.\n",
    "# Observe that both the analytical f'(x) and the forward-difference approximation to it are highly oscillatory and therefore quite different from the \"underlying\" behavior of g'(x).\n",
    "\n"
   ]
  },
  {
   "cell_type": "code",
   "execution_count": null,
   "id": "68a6eb72-0dcd-4c90-a78c-5ff6995f325d",
   "metadata": {},
   "outputs": [],
   "source": [
    "# (c) Introduce a new set of points into your latest plot:\n",
    "# (iv) the forward-difference approximation of f'(x), using grid points which are twice removed.\n",
    "# Observe that this set of points exhibits \"noise\" with smaller amplitude; this is because we have employed a larger step size h\n",
    "# and have thereby smoothed out some of the \"unphysical\" oscillations due to the third term.\n",
    "\n",
    "\n"
   ]
  }
 ],
 "metadata": {
  "kernelspec": {
   "display_name": "Python 3 (ipykernel)",
   "language": "python",
   "name": "python3"
  },
  "language_info": {
   "codemirror_mode": {
    "name": "ipython",
    "version": 3
   },
   "file_extension": ".py",
   "mimetype": "text/x-python",
   "name": "python",
   "nbconvert_exporter": "python",
   "pygments_lexer": "ipython3",
   "version": "3.12.11"
  }
 },
 "nbformat": 4,
 "nbformat_minor": 5
}
