{
 "cells": [
  {
   "cell_type": "code",
   "execution_count": 1,
   "id": "65f9420a-1504-4af0-9345-f2b34faef1db",
   "metadata": {},
   "outputs": [
    {
     "name": "stdout",
     "output_type": "stream",
     "text": [
      "233168\n"
     ]
    }
   ],
   "source": [
    "multiples_list = []\n",
    "\n",
    "for i in range (1000):\n",
    "    if i % 3 == 0 or i % 5 == 0:\n",
    "        multiples_list.append(i)\n",
    "\n",
    "print (sum (multiples_list))"
   ]
  },
  {
   "cell_type": "code",
   "execution_count": null,
   "id": "abe5748d-a699-4aea-a9be-e88d1558ec8f",
   "metadata": {},
   "outputs": [],
   "source": []
  }
 ],
 "metadata": {
  "kernelspec": {
   "display_name": "Python 3 (ipykernel)",
   "language": "python",
   "name": "python3"
  },
  "language_info": {
   "codemirror_mode": {
    "name": "ipython",
    "version": 3
   },
   "file_extension": ".py",
   "mimetype": "text/x-python",
   "name": "python",
   "nbconvert_exporter": "python",
   "pygments_lexer": "ipython3",
   "version": "3.12.11"
  }
 },
 "nbformat": 4,
 "nbformat_minor": 5
}
