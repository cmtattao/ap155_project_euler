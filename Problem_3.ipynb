{
 "cells": [
  {
   "cell_type": "code",
   "execution_count": null,
   "id": "8f91b6dc-5dd3-4000-a504-0cc63e3fcb2a",
   "metadata": {},
   "outputs": [
    {
     "name": "stdout",
     "output_type": "stream",
     "text": [
      "71\n",
      "839\n",
      "1471\n",
      "6857\n"
     ]
    }
   ],
   "source": [
    "def is_number_prime(input_number):\n",
    "    divisor = 2\n",
    "    my_factors = []\n",
    "    while divisor < input_number:\n",
    "        remainder = input_number % divisor\n",
    "        if remainder == 0:\n",
    "            my_factors.append(divisor)\n",
    "        divisor = divisor + 1\n",
    "\n",
    "    if len(my_factors) == 0:\n",
    "        return True \n",
    "    else:\n",
    "        return False\n",
    "\n",
    "my_num = 600851475143\n",
    "\n",
    "divisor = 2\n",
    "my_factors = []\n",
    "while divisor < my_num:\n",
    "    remainder = my_num % divisor\n",
    "    if remainder == 0:\n",
    "        my_factors.append(divisor)\n",
    "\n",
    "        if is_number_prime(divisor):\n",
    "            print(divisor)        \n",
    "    divisor = divisor + 1\n",
    "\n",
    "for factor in my_factors:\n",
    "    if is_number_prime(factor):\n",
    "        print(factor)"
   ]
  }
 ],
 "metadata": {
  "kernelspec": {
   "display_name": "Python 3 (ipykernel)",
   "language": "python",
   "name": "python3"
  },
  "language_info": {
   "codemirror_mode": {
    "name": "ipython",
    "version": 3
   },
   "file_extension": ".py",
   "mimetype": "text/x-python",
   "name": "python",
   "nbconvert_exporter": "python",
   "pygments_lexer": "ipython3",
   "version": "3.12.11"
  }
 },
 "nbformat": 4,
 "nbformat_minor": 5
}
